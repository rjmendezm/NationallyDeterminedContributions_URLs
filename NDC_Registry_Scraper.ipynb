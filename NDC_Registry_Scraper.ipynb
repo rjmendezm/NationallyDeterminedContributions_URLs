{
 "cells": [
  {
   "cell_type": "markdown",
   "metadata": {},
   "source": [
    "# 0. Carga de librerías"
   ]
  },
  {
   "cell_type": "code",
   "execution_count": 1,
   "metadata": {},
   "outputs": [],
   "source": [
    "import requests\n",
    "from bs4 import BeautifulSoup\n",
    "import csv\n",
    "from selenium import webdriver\n",
    "import pandas as pd"
   ]
  },
  {
   "cell_type": "markdown",
   "metadata": {},
   "source": [
    "# 1. Obtención del contenido de la web"
   ]
  },
  {
   "cell_type": "markdown",
   "metadata": {},
   "source": [
    "Como la web está en Javascript, hemos empleado Selenium para poder obtener el contenido de la url. Para ello hemos instalado un driver para chrome. De esta manera ya si hemos podido utilizar la librería BeautifulSoup para obtener el contenido de la página web."
   ]
  },
  {
   "cell_type": "code",
   "execution_count": 2,
   "metadata": {},
   "outputs": [
    {
     "name": "stderr",
     "output_type": "stream",
     "text": [
      "[WDM] - \n",
      "\n",
      "[WDM] - ====== WebDriver manager ======\n",
      "[WDM] - Current google-chrome version is 95.0.4638\n",
      "[WDM] - Get LATEST driver version for 95.0.4638\n",
      "[WDM] - Driver [/Users/concharomansantos/.wdm/drivers/chromedriver/mac64/95.0.4638.54/chromedriver] found in cache\n"
     ]
    }
   ],
   "source": [
    "from webdriver_manager.chrome import ChromeDriverManager\n",
    "url = \"https://www4.unfccc.int/sites/NDCStaging/Pages/All.aspx\"\n",
    "driver = webdriver.Chrome(ChromeDriverManager().install())\n",
    "driver.get(url)\n",
    "soup = BeautifulSoup(driver.page_source, 'html.parser')\n",
    "driver.close()"
   ]
  },
  {
   "cell_type": "markdown",
   "metadata": {},
   "source": [
    "A continuación una alternativa al bloque anterior "
   ]
  },
  {
   "cell_type": "code",
   "execution_count": 3,
   "metadata": {
    "scrolled": true
   },
   "outputs": [],
   "source": [
    "#import chromedriver_binary \n",
    "#url = \"https://www4.unfccc.int/sites/NDCStaging/Pages/All.aspx\"\n",
    "#driver = webdriver.Chrome()\n",
    "#driver.get(url)\n",
    "#soup = BeautifulSoup(driver.page_source, 'html.parser')\n",
    "#driver.close()"
   ]
  },
  {
   "cell_type": "markdown",
   "metadata": {},
   "source": [
    "# 2. Web Scraping"
   ]
  },
  {
   "cell_type": "markdown",
   "metadata": {},
   "source": [
    "El código de la web se disponía en múltiples divs, que a su vez estaban formados por múltiples divs, y así sucesivamente. Por tanto, aunque no es un código muy óptimo, recorrer el código con bucles for es la única manera que se nos ocurría para poder obtener los datos e información de interés. Cada campo de interés lo hemos almacenado en una lista y al finalizar el recorrido por todo el código formamos el dataframe incluyendo en cada campo los valores contenidos en cada lista."
   ]
  },
  {
   "cell_type": "code",
   "execution_count": 4,
   "metadata": {},
   "outputs": [],
   "source": [
    "country_list = []\n",
    "pdf_list = []\n",
    "language_list = []\n",
    "date_list = []\n",
    "for letter_panel in soup.find_all(class_=\"panel-group letter-panel\"):\n",
    "    for panel_tag in letter_panel.find_all(class_=\"panel panel-default\"):\n",
    "        for x in panel_tag.find_all(class_='panel-collapse collapse'):\n",
    "            for row in x.find_all(class_='row', style=True):\n",
    "                for country in row.find_all(class_='col-sm-5'):\n",
    "                    if (country.text != \"Title\"):\n",
    "                        country_list.append(country.text) \n",
    "                for pdf in row.find_all('a', target=True, href=True):\n",
    "                    pdf_list.append(pdf['href'])\n",
    "                for language in row.find_all(class_='col-sm-2'):\n",
    "                    if ((language.text != \"Language\") and (language.text != 'NDC') \n",
    "                        and (language.text != '') and (language.text != 'Translation')\n",
    "                       and (language.text != 'Addendum')):\n",
    "                        language_list.append(language.text)\n",
    "                for date in row.find_all(class_='col-sm-3'):\n",
    "                    if (date.text != \"Submission date\"):\n",
    "                        date_list.append(date.text)"
   ]
  },
  {
   "cell_type": "markdown",
   "metadata": {},
   "source": [
    "# 3. Creación del dataset"
   ]
  },
  {
   "cell_type": "markdown",
   "metadata": {},
   "source": [
    "Creamos un dataframe pandas."
   ]
  },
  {
   "cell_type": "code",
   "execution_count": 5,
   "metadata": {},
   "outputs": [],
   "source": [
    "df = pd.DataFrame({'Version': country_list, 'PDF': pdf_list, 'Language': language_list, 'Date': date_list})"
   ]
  },
  {
   "cell_type": "markdown",
   "metadata": {},
   "source": [
    "# 4. Procesado y limpieza del dataset"
   ]
  },
  {
   "cell_type": "markdown",
   "metadata": {},
   "source": [
    "Eliminamos los espacios en blanco del campo \"Version\"."
   ]
  },
  {
   "cell_type": "code",
   "execution_count": 6,
   "metadata": {},
   "outputs": [],
   "source": [
    "df['Version'] = df['Version'].str.strip()"
   ]
  },
  {
   "cell_type": "markdown",
   "metadata": {},
   "source": [
    "Como el campo \"Version\" contiene el nombre del país, y el nombre de versión, queremos obtener un campo que solo contenga el nombre del país y otro para el nombre de versión. Para ello separamos el string del campo \"Version\" por el substring \"NDC\" y nos quedamos con la primera parte. Y de esa parte volvemos a separar por \" \" para el nombre de versión del nombre del país."
   ]
  },
  {
   "cell_type": "code",
   "execution_count": 7,
   "metadata": {},
   "outputs": [],
   "source": [
    "df['temp'] = df['Version'].str.split('NDC').str[0]\n",
    "df['temp2'] = df['temp'].str.split(' ').str[:-2]\n",
    "df['Country'] = [' '.join(map(str, l)) for l in df['temp2']]\n",
    "ord_numbers = ['First', 'Second', 'Third', 'Fourth', 'Fifth']\n",
    "for number in ord_numbers:\n",
    "    df.loc[df.Version.str.contains(number), \"Version\"] = number + df['Version'].str.split('NDC').str[1]"
   ]
  },
  {
   "cell_type": "markdown",
   "metadata": {},
   "source": [
    "Limpiamos algunos registros que contenían información en distinto formato, pero con los cuales no perdemos información."
   ]
  },
  {
   "cell_type": "code",
   "execution_count": 8,
   "metadata": {},
   "outputs": [],
   "source": [
    "df = df[df['Country'] != '']\n",
    "df = df[df['Version'].str.contains('|'.join(ord_numbers),regex=True)]"
   ]
  },
  {
   "cell_type": "markdown",
   "metadata": {},
   "source": [
    "En el NDC_Registry hay un registro por cada país de la European Union y otro de la Union en su conjunto, pero al inspeccionar los documentos encontramos que se repiten pues sólo hay un único NDC (y sus correspondientes versiones) para todos los países de la Unión. Por ello hemos optado por eliminar todos los registros de los países individuales (que por la misma razón señalada y las características de nuestra búsqueda se muestran con la etiqueta \"EU\") y dejar sólo el de la Unión en su conjunto, que se muestra con la etiqueta \"European Union\". "
   ]
  },
  {
   "cell_type": "code",
   "execution_count": 9,
   "metadata": {},
   "outputs": [],
   "source": [
    "df = df[df['Country'] != 'EU']"
   ]
  },
  {
   "cell_type": "markdown",
   "metadata": {},
   "source": [
    " De esta manera en nuestro dataframe tenemos los siguientes campos:\n",
    "+ **\"Country\":** contiene el nombre del país.\n",
    "+ **\"Version\":** contiene el nombre de la versión del fichero.\n",
    "+ **\"Language\":** contiene el idioma en el que está escrito el NDC.\n",
    "+ **\"Date\":** contiene la fecha en la que se publicó el fichero NDC.\n",
    "+ **\"PDF\":** contiene la url del fichero NDC."
   ]
  },
  {
   "cell_type": "code",
   "execution_count": 10,
   "metadata": {},
   "outputs": [],
   "source": [
    "df = df[['Country','Version', 'Language', 'Date', 'PDF']]"
   ]
  },
  {
   "cell_type": "markdown",
   "metadata": {},
   "source": [
    "Mostramos una muestra de registros de nuestro dataset final."
   ]
  },
  {
   "cell_type": "code",
   "execution_count": 11,
   "metadata": {},
   "outputs": [
    {
     "data": {
      "text/html": [
       "<div>\n",
       "<style scoped>\n",
       "    .dataframe tbody tr th:only-of-type {\n",
       "        vertical-align: middle;\n",
       "    }\n",
       "\n",
       "    .dataframe tbody tr th {\n",
       "        vertical-align: top;\n",
       "    }\n",
       "\n",
       "    .dataframe thead th {\n",
       "        text-align: right;\n",
       "    }\n",
       "</style>\n",
       "<table border=\"1\" class=\"dataframe\">\n",
       "  <thead>\n",
       "    <tr style=\"text-align: right;\">\n",
       "      <th></th>\n",
       "      <th>Country</th>\n",
       "      <th>Version</th>\n",
       "      <th>Language</th>\n",
       "      <th>Date</th>\n",
       "      <th>PDF</th>\n",
       "    </tr>\n",
       "  </thead>\n",
       "  <tbody>\n",
       "    <tr>\n",
       "      <th>0</th>\n",
       "      <td>Afghanistan</td>\n",
       "      <td>First</td>\n",
       "      <td>English</td>\n",
       "      <td>23/11/2016</td>\n",
       "      <td>https://www4.unfccc.int/sites/ndcstaging/Publi...</td>\n",
       "    </tr>\n",
       "    <tr>\n",
       "      <th>1</th>\n",
       "      <td>Albania</td>\n",
       "      <td>First (Archived)</td>\n",
       "      <td>English</td>\n",
       "      <td>21/09/2016</td>\n",
       "      <td>https://www4.unfccc.int/sites/ndcstaging/Publi...</td>\n",
       "    </tr>\n",
       "    <tr>\n",
       "      <th>2</th>\n",
       "      <td>Albania</td>\n",
       "      <td>First (Updated submission)</td>\n",
       "      <td>English</td>\n",
       "      <td>12/10/2021</td>\n",
       "      <td>https://www4.unfccc.int/sites/ndcstaging/Publi...</td>\n",
       "    </tr>\n",
       "    <tr>\n",
       "      <th>3</th>\n",
       "      <td>Algeria</td>\n",
       "      <td>First</td>\n",
       "      <td>French</td>\n",
       "      <td>20/10/2016</td>\n",
       "      <td>https://www4.unfccc.int/sites/ndcstaging/Publi...</td>\n",
       "    </tr>\n",
       "    <tr>\n",
       "      <th>4</th>\n",
       "      <td>Algeria</td>\n",
       "      <td>First Translation</td>\n",
       "      <td>English</td>\n",
       "      <td>20/10/2016</td>\n",
       "      <td>https://www4.unfccc.int/sites/ndcstaging/Publi...</td>\n",
       "    </tr>\n",
       "    <tr>\n",
       "      <th>5</th>\n",
       "      <td>Andorra</td>\n",
       "      <td>First (Archived)</td>\n",
       "      <td>French</td>\n",
       "      <td>24/03/2017</td>\n",
       "      <td>https://www4.unfccc.int/sites/ndcstaging/Publi...</td>\n",
       "    </tr>\n",
       "    <tr>\n",
       "      <th>6</th>\n",
       "      <td>Andorra</td>\n",
       "      <td>First (Updated submission)</td>\n",
       "      <td>Spanish</td>\n",
       "      <td>20/05/2020</td>\n",
       "      <td>https://www4.unfccc.int/sites/ndcstaging/Publi...</td>\n",
       "    </tr>\n",
       "    <tr>\n",
       "      <th>7</th>\n",
       "      <td>Angola</td>\n",
       "      <td>First (Archived)</td>\n",
       "      <td>English</td>\n",
       "      <td>16/11/2020</td>\n",
       "      <td>https://www4.unfccc.int/sites/ndcstaging/Publi...</td>\n",
       "    </tr>\n",
       "    <tr>\n",
       "      <th>8</th>\n",
       "      <td>Angola</td>\n",
       "      <td>First (Updated submission)</td>\n",
       "      <td>English</td>\n",
       "      <td>31/05/2021</td>\n",
       "      <td>https://www4.unfccc.int/sites/ndcstaging/Publi...</td>\n",
       "    </tr>\n",
       "    <tr>\n",
       "      <th>9</th>\n",
       "      <td>Antigua and Barbuda</td>\n",
       "      <td>First (Archived)</td>\n",
       "      <td>English</td>\n",
       "      <td>21/09/2016</td>\n",
       "      <td>https://www4.unfccc.int/sites/ndcstaging/Publi...</td>\n",
       "    </tr>\n",
       "    <tr>\n",
       "      <th>10</th>\n",
       "      <td>Antigua and Barbuda</td>\n",
       "      <td>First (Updated submission)</td>\n",
       "      <td>English</td>\n",
       "      <td>02/09/2021</td>\n",
       "      <td>https://www4.unfccc.int/sites/ndcstaging/Publi...</td>\n",
       "    </tr>\n",
       "    <tr>\n",
       "      <th>11</th>\n",
       "      <td>Argentina</td>\n",
       "      <td>Second (Archived)</td>\n",
       "      <td>Spanish</td>\n",
       "      <td>30/12/2020</td>\n",
       "      <td>https://www4.unfccc.int/sites/ndcstaging/Publi...</td>\n",
       "    </tr>\n",
       "    <tr>\n",
       "      <th>12</th>\n",
       "      <td>Argentina</td>\n",
       "      <td>Second (Updated submission)</td>\n",
       "      <td>Spanish</td>\n",
       "      <td>02/11/2021</td>\n",
       "      <td>https://www4.unfccc.int/sites/ndcstaging/Publi...</td>\n",
       "    </tr>\n",
       "    <tr>\n",
       "      <th>13</th>\n",
       "      <td>Argentina</td>\n",
       "      <td>First (Archived)</td>\n",
       "      <td>Spanish</td>\n",
       "      <td>17/11/2016</td>\n",
       "      <td>https://www4.unfccc.int/sites/ndcstaging/Publi...</td>\n",
       "    </tr>\n",
       "    <tr>\n",
       "      <th>14</th>\n",
       "      <td>Argentina</td>\n",
       "      <td>First(Archived)</td>\n",
       "      <td>English</td>\n",
       "      <td>17/11/2016</td>\n",
       "      <td>https://www4.unfccc.int/sites/ndcstaging/Publi...</td>\n",
       "    </tr>\n",
       "    <tr>\n",
       "      <th>15</th>\n",
       "      <td>Armenia</td>\n",
       "      <td>First (Archived)</td>\n",
       "      <td>English</td>\n",
       "      <td>23/03/2017</td>\n",
       "      <td>https://www4.unfccc.int/sites/ndcstaging/Publi...</td>\n",
       "    </tr>\n",
       "    <tr>\n",
       "      <th>16</th>\n",
       "      <td>Armenia</td>\n",
       "      <td>First (Updated submission)</td>\n",
       "      <td>English</td>\n",
       "      <td>05/05/2021</td>\n",
       "      <td>https://www4.unfccc.int/sites/ndcstaging/Publi...</td>\n",
       "    </tr>\n",
       "    <tr>\n",
       "      <th>18</th>\n",
       "      <td>Australia</td>\n",
       "      <td>First (Archived)</td>\n",
       "      <td>English</td>\n",
       "      <td>09/11/2016</td>\n",
       "      <td>https://www4.unfccc.int/sites/ndcstaging/Publi...</td>\n",
       "    </tr>\n",
       "    <tr>\n",
       "      <th>19</th>\n",
       "      <td>Australia</td>\n",
       "      <td>First (Archived)</td>\n",
       "      <td>English</td>\n",
       "      <td>31/12/2020</td>\n",
       "      <td>https://www4.unfccc.int/sites/ndcstaging/Publi...</td>\n",
       "    </tr>\n",
       "    <tr>\n",
       "      <th>20</th>\n",
       "      <td>Australia</td>\n",
       "      <td>First (Updated submission)</td>\n",
       "      <td>English</td>\n",
       "      <td>28/10/2021</td>\n",
       "      <td>https://www4.unfccc.int/sites/ndcstaging/Publi...</td>\n",
       "    </tr>\n",
       "    <tr>\n",
       "      <th>23</th>\n",
       "      <td>Azerbaijan</td>\n",
       "      <td>First</td>\n",
       "      <td>English</td>\n",
       "      <td>09/01/2017</td>\n",
       "      <td>https://www4.unfccc.int/sites/ndcstaging/Publi...</td>\n",
       "    </tr>\n",
       "    <tr>\n",
       "      <th>24</th>\n",
       "      <td>Bahamas</td>\n",
       "      <td>First</td>\n",
       "      <td>English</td>\n",
       "      <td>31/10/2016</td>\n",
       "      <td>https://www4.unfccc.int/sites/ndcstaging/Publi...</td>\n",
       "    </tr>\n",
       "    <tr>\n",
       "      <th>25</th>\n",
       "      <td>Bahrain</td>\n",
       "      <td>First (Archived)</td>\n",
       "      <td>English</td>\n",
       "      <td>30/12/2016</td>\n",
       "      <td>https://www4.unfccc.int/sites/ndcstaging/Publi...</td>\n",
       "    </tr>\n",
       "    <tr>\n",
       "      <th>26</th>\n",
       "      <td>Bahrain</td>\n",
       "      <td>First (Updated submission)</td>\n",
       "      <td>English</td>\n",
       "      <td>18/10/2021</td>\n",
       "      <td>https://www4.unfccc.int/sites/ndcstaging/Publi...</td>\n",
       "    </tr>\n",
       "    <tr>\n",
       "      <th>27</th>\n",
       "      <td>Bangladesh</td>\n",
       "      <td>First (Archived)</td>\n",
       "      <td>English</td>\n",
       "      <td>21/09/2016</td>\n",
       "      <td>https://www4.unfccc.int/sites/ndcstaging/Publi...</td>\n",
       "    </tr>\n",
       "    <tr>\n",
       "      <th>28</th>\n",
       "      <td>Bangladesh</td>\n",
       "      <td>First (Interim-Updated submission)</td>\n",
       "      <td>English</td>\n",
       "      <td>31/12/2020</td>\n",
       "      <td>https://www4.unfccc.int/sites/ndcstaging/Publi...</td>\n",
       "    </tr>\n",
       "    <tr>\n",
       "      <th>29</th>\n",
       "      <td>Bangladesh</td>\n",
       "      <td>First (Updated submission)</td>\n",
       "      <td>English</td>\n",
       "      <td>26/08/2021</td>\n",
       "      <td>https://www4.unfccc.int/sites/ndcstaging/Publi...</td>\n",
       "    </tr>\n",
       "    <tr>\n",
       "      <th>31</th>\n",
       "      <td>Barbados</td>\n",
       "      <td>First (Archived)</td>\n",
       "      <td>English</td>\n",
       "      <td>22/04/2016</td>\n",
       "      <td>https://www4.unfccc.int/sites/ndcstaging/Publi...</td>\n",
       "    </tr>\n",
       "    <tr>\n",
       "      <th>32</th>\n",
       "      <td>Barbados</td>\n",
       "      <td>First (Updated submission)</td>\n",
       "      <td>English</td>\n",
       "      <td>30/07/2021</td>\n",
       "      <td>https://www4.unfccc.int/sites/ndcstaging/Publi...</td>\n",
       "    </tr>\n",
       "    <tr>\n",
       "      <th>33</th>\n",
       "      <td>Belarus</td>\n",
       "      <td>First (Archived)</td>\n",
       "      <td>Russian</td>\n",
       "      <td>21/09/2016</td>\n",
       "      <td>https://www4.unfccc.int/sites/ndcstaging/Publi...</td>\n",
       "    </tr>\n",
       "  </tbody>\n",
       "</table>\n",
       "</div>"
      ],
      "text/plain": [
       "                Country                             Version Language  \\\n",
       "0           Afghanistan                               First  English   \n",
       "1               Albania                    First (Archived)  English   \n",
       "2               Albania          First (Updated submission)  English   \n",
       "3               Algeria                               First   French   \n",
       "4               Algeria                   First Translation  English   \n",
       "5               Andorra                    First (Archived)   French   \n",
       "6               Andorra          First (Updated submission)  Spanish   \n",
       "7                Angola                    First (Archived)  English   \n",
       "8                Angola          First (Updated submission)  English   \n",
       "9   Antigua and Barbuda                    First (Archived)  English   \n",
       "10  Antigua and Barbuda          First (Updated submission)  English   \n",
       "11            Argentina                   Second (Archived)  Spanish   \n",
       "12            Argentina         Second (Updated submission)  Spanish   \n",
       "13            Argentina                    First (Archived)  Spanish   \n",
       "14            Argentina                     First(Archived)  English   \n",
       "15              Armenia                    First (Archived)  English   \n",
       "16              Armenia          First (Updated submission)  English   \n",
       "18            Australia                    First (Archived)  English   \n",
       "19            Australia                    First (Archived)  English   \n",
       "20            Australia          First (Updated submission)  English   \n",
       "23           Azerbaijan                               First  English   \n",
       "24              Bahamas                               First  English   \n",
       "25              Bahrain                    First (Archived)  English   \n",
       "26              Bahrain          First (Updated submission)  English   \n",
       "27           Bangladesh                    First (Archived)  English   \n",
       "28           Bangladesh  First (Interim-Updated submission)  English   \n",
       "29           Bangladesh          First (Updated submission)  English   \n",
       "31             Barbados                    First (Archived)  English   \n",
       "32             Barbados          First (Updated submission)  English   \n",
       "33              Belarus                    First (Archived)  Russian   \n",
       "\n",
       "          Date                                                PDF  \n",
       "0   23/11/2016  https://www4.unfccc.int/sites/ndcstaging/Publi...  \n",
       "1   21/09/2016  https://www4.unfccc.int/sites/ndcstaging/Publi...  \n",
       "2   12/10/2021  https://www4.unfccc.int/sites/ndcstaging/Publi...  \n",
       "3   20/10/2016  https://www4.unfccc.int/sites/ndcstaging/Publi...  \n",
       "4   20/10/2016  https://www4.unfccc.int/sites/ndcstaging/Publi...  \n",
       "5   24/03/2017  https://www4.unfccc.int/sites/ndcstaging/Publi...  \n",
       "6   20/05/2020  https://www4.unfccc.int/sites/ndcstaging/Publi...  \n",
       "7   16/11/2020  https://www4.unfccc.int/sites/ndcstaging/Publi...  \n",
       "8   31/05/2021  https://www4.unfccc.int/sites/ndcstaging/Publi...  \n",
       "9   21/09/2016  https://www4.unfccc.int/sites/ndcstaging/Publi...  \n",
       "10  02/09/2021  https://www4.unfccc.int/sites/ndcstaging/Publi...  \n",
       "11  30/12/2020  https://www4.unfccc.int/sites/ndcstaging/Publi...  \n",
       "12  02/11/2021  https://www4.unfccc.int/sites/ndcstaging/Publi...  \n",
       "13  17/11/2016  https://www4.unfccc.int/sites/ndcstaging/Publi...  \n",
       "14  17/11/2016  https://www4.unfccc.int/sites/ndcstaging/Publi...  \n",
       "15  23/03/2017  https://www4.unfccc.int/sites/ndcstaging/Publi...  \n",
       "16  05/05/2021  https://www4.unfccc.int/sites/ndcstaging/Publi...  \n",
       "18  09/11/2016  https://www4.unfccc.int/sites/ndcstaging/Publi...  \n",
       "19  31/12/2020  https://www4.unfccc.int/sites/ndcstaging/Publi...  \n",
       "20  28/10/2021  https://www4.unfccc.int/sites/ndcstaging/Publi...  \n",
       "23  09/01/2017  https://www4.unfccc.int/sites/ndcstaging/Publi...  \n",
       "24  31/10/2016  https://www4.unfccc.int/sites/ndcstaging/Publi...  \n",
       "25  30/12/2016  https://www4.unfccc.int/sites/ndcstaging/Publi...  \n",
       "26  18/10/2021  https://www4.unfccc.int/sites/ndcstaging/Publi...  \n",
       "27  21/09/2016  https://www4.unfccc.int/sites/ndcstaging/Publi...  \n",
       "28  31/12/2020  https://www4.unfccc.int/sites/ndcstaging/Publi...  \n",
       "29  26/08/2021  https://www4.unfccc.int/sites/ndcstaging/Publi...  \n",
       "31  22/04/2016  https://www4.unfccc.int/sites/ndcstaging/Publi...  \n",
       "32  30/07/2021  https://www4.unfccc.int/sites/ndcstaging/Publi...  \n",
       "33  21/09/2016  https://www4.unfccc.int/sites/ndcstaging/Publi...  "
      ]
     },
     "execution_count": 11,
     "metadata": {},
     "output_type": "execute_result"
    }
   ],
   "source": [
    "df.head(30)"
   ]
  },
  {
   "cell_type": "markdown",
   "metadata": {},
   "source": [
    "# 5. Exportación del dataset"
   ]
  },
  {
   "cell_type": "markdown",
   "metadata": {},
   "source": [
    "Exportamos el dataset obtenido tanto en un fichero csv como en un fichero excel."
   ]
  },
  {
   "cell_type": "code",
   "execution_count": 12,
   "metadata": {},
   "outputs": [],
   "source": [
    "from datetime import date\n",
    "\n",
    "today = date.today()\n",
    "current_date = today.strftime(\"%d%m%Y\")"
   ]
  },
  {
   "cell_type": "code",
   "execution_count": 13,
   "metadata": {},
   "outputs": [],
   "source": [
    "df.to_excel('NDC_URL_' + current_date + '.xlsx', index=False)"
   ]
  },
  {
   "cell_type": "code",
   "execution_count": 14,
   "metadata": {},
   "outputs": [],
   "source": [
    "df.to_csv('NDC_URL_' + current_date + '.csv', index=False)"
   ]
  }
 ],
 "metadata": {
  "kernelspec": {
   "display_name": "Python 3",
   "language": "python",
   "name": "python3"
  },
  "language_info": {
   "codemirror_mode": {
    "name": "ipython",
    "version": 3
   },
   "file_extension": ".py",
   "mimetype": "text/x-python",
   "name": "python",
   "nbconvert_exporter": "python",
   "pygments_lexer": "ipython3",
   "version": "3.7.3"
  }
 },
 "nbformat": 4,
 "nbformat_minor": 4
}
